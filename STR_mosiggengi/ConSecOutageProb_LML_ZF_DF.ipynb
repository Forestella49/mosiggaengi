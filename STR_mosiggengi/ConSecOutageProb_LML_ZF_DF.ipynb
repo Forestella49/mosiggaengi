{
 "cells": [
  {
   "cell_type": "code",
   "execution_count": 1,
   "metadata": {},
   "outputs": [],
   "source": [
    "import numpy as np\n",
    "import random\n",
    "import math"
   ]
  },
  {
   "cell_type": "code",
   "execution_count": 2,
   "metadata": {},
   "outputs": [],
   "source": [
    "def avg_var_cal(R_T, R_E, Es_dBm, Noise_Var_E, Noise_Var_B, rho_E, rho_B):\n",
    "    R_S = R_T - R_E\n",
    "    Es = 10**(Es_dBm/10)/1000\n",
    "    sigma_E = math.sqrt(Noise_Var_E)\n",
    "    sigma_B = math.sqrt(Noise_Var_B)\n",
    "    avg_SNR_B = (2*Es) / (sigma_B)^2\n",
    "    avg_SNR_E = (2*Es) / (sigma_E)^2\n",
    "    Noise_Var_E_v = 1 - rho_E**2\n",
    "    Noise_Var_B_v = 1 - rho_B**2\n",
    "    return avg_SNR_B, avg_SNR_E, Noise_Var_B_v, Noise_Var_E_v"
   ]
  },
  {
   "cell_type": "code",
   "execution_count": 13,
   "metadata": {},
   "outputs": [],
   "source": [
    "def TS_cha_gen(iteration, rho_B, rho_E, Noise_Var_B_v, Noise_Var_E_v, avg_SNR_B, avg_SNR_E, R_T, R_E):\n",
    "    count_ConOutage_LML = []\n",
    "    count_ConOutage_ZF  = []\n",
    "    count_ConOutage_DF  = []\n",
    "\n",
    "    count_SecOutage_LML = []\n",
    "    count_SecOutage_ZF  = []\n",
    "    count_SecOutage_DF  = []\n",
    "\n",
    "    count_LML_LML = np.zeros(1,iteration)\n",
    "    count_LML_DF = np.zeros(1,iteration)\n",
    "    count_DF_LML = np.zeros(1,iteration)\n",
    "    count_DF_DF = np.zeros(1,iteration)\n",
    "    \n",
    "    for k in range(iteration):\n",
    "        ####################################\n",
    "        # Time Selective Channel Generation\n",
    "        ####################################\n",
    "        H_B1 = np.divide(np.random.randn(2,1) + \n",
    "                np.multiply(1j,np.random.randn(2,1)), math.sqrt(2))\n",
    "        H_B2 = np.multiply(rho_B, H_B1) + np.divide(np.multiply((np.random.randn(2,1) +\n",
    "                 1j*np.random.randn(2,1)), math.sqrt(Noise_Var_B_v)), math.sqrt(2))\n",
    "        H_B3 = np.c_[H_B1, H_B2]\n",
    "        H_B3_JML = np.c_[H_B1, H_B1]\n",
    "        H_B = ([H_B3[0,0], H_B3[1,0]],\n",
    "                [np.conjugate(H_B3[1,1]), -np.conjugate(H_B3[0,1])])\n",
    "        G_B = np.multiply(H_B.T, H_B)\n",
    "        H_B_JML = ([H_B3_JML(0,0), H_B3_JML(1,0)],\n",
    "                [np.conjugate(H_B3_JML[1,1]), -np.conjugate(H_B3_JML[0,1])])\n",
    "        G_B_JML= H_B_JML.T*H_B_JML\n",
    "\n",
    "        H_E1 = np.divide(np.random.randn(2,1) + \n",
    "                np.multiply(1j,np.random.randn(2,1)), math.sqrt(2))\n",
    "        H_E2 = np.multiply(rho_E, H_E1) + np.divide(np.multiply((np.random.randn(2,1) +\n",
    "                 1j*np.random.randn(2,1)), math.sqrt(Noise_Var_E_v)), math.sqrt(2))\n",
    "        H_E3 = np.c_[H_E1, H_E2]\n",
    "        H_E3_JML = np.c_[H_E1, H_E1]\n",
    "        H_E = ([H_E3[0,0], H_E3[1,0]],\n",
    "                [np.conjugate(H_E3[1,1]), -np.conjugate(H_E3[0,1])])\n",
    "        G_E = np.multiply(H_E.T, H_E)\n",
    "        H_E_JML = ([H_E3_JML(0,0), H_E3_JML(1,0)],\n",
    "                [np.conjugate(H_E3_JML[1,1]), -np.conjugate(H_E3_JML[0,1])])\n",
    "        G_E_JML= H_E_JML.T*H_E_JML\n",
    "\n",
    "        ############################################\n",
    "        # Effective rerceived SNR for each antenna\n",
    "        ############################################\n",
    "        # LML at Bob\n",
    "        B_Eff_SNR_Ant1_LML = avg_SNR_B / ((1-rho_B**2)*avg_SNR_B + 2) * G_B[0,0]\n",
    "        B_Eff_SNR_Ant2_LML = avg_SNR_B / ((1-rho_B**2)*avg_SNR_B + 2) * G_B[1,1]\n",
    "\n",
    "        # LML at Eve\n",
    "        E_Eff_SNR_Ant1_LML = avg_SNR_E / ((1-rho_E**2)*avg_SNR_E + 2) * G_E[0,0]\n",
    "        E_Eff_SNR_Ant2_LML = avg_SNR_E / ((1-rho_E**2)*avg_SNR_E + 2) * G_E[1,1]\n",
    "\n",
    "        # ZF at Bob\n",
    "        B_zeta = math.sqrt(G_B[0,0]*G_B[1,1] - abs(G_B[0,1])**2);   \n",
    "        B_Eff_SNR_Ant1_ZF = B_zeta**2 / (2*G_B[1,1]) * avg_SNR_B\n",
    "        B_Eff_SNR_Ant2_ZF = B_zeta**2 / (2*G_B[0,0]) * avg_SNR_B\n",
    "        \n",
    "        # ZF at Eve\n",
    "        E_zeta = math.sqrt(G_E[0,0]*G_E[1,1] - abs(G_E[0,1])**2)\n",
    "        E_Eff_SNR_Ant1_ZF = E_zeta**2 / (2*G_E[1,1]) * avg_SNR_E\n",
    "        E_Eff_SNR_Ant2_ZF = E_zeta**2 / (2*G_E[0,0]) * avg_SNR_E\n",
    "        \n",
    "        # DF at Bob\n",
    "        B_zeta = math.sqrt(G_B[0,0]*G_B[1,1] - abs(G_B[0,1])**2)   \n",
    "        B_Eff_SNR_Ant1_DF = B_zeta**2 / (2*G_B[1,1]) * avg_SNR_B  # ZF\n",
    "        B_Eff_SNR_Ant2_DF = avg_SNR_B / 2 * G_B_JML[1,1]          # JML\n",
    "        \n",
    "        # DF at Eve\n",
    "        E_zeta = math.sqrt(G_E[0,0]*G_E[1,1] - abs(G_E[0,1])**2)\n",
    "        E_Eff_SNR_Ant1_DF = E_zeta**2 / (2*G_E[1,1]) * avg_SNR_E   # ZF\n",
    "        E_Eff_SNR_Ant2_DF = avg_SNR_E / 2 * G_E_JML[1,1]           # JML\n",
    "\n",
    "        C_B_LML = 1/2*( np.log2(1+B_Eff_SNR_Ant1_LML) + np.log2(1+B_Eff_SNR_Ant2_LML) )  # Capacity of LML at Bob\n",
    "        C_B_ZF  = 1/2*( np.log2(1+B_Eff_SNR_Ant1_ZF)  + np.log2(1+B_Eff_SNR_Ant2_ZF)  )  # Capacity of ZF at Bob\n",
    "        C_B_DF  = 1/2*( np.log2(1+B_Eff_SNR_Ant1_DF)  + np.log2(1+B_Eff_SNR_Ant2_DF)  )  # Capacity of DF at Bob\n",
    "\n",
    "        C_E_LML = 1/2*( np.log2(1+E_Eff_SNR_Ant1_LML) + np.log2(1+E_Eff_SNR_Ant2_LML) )  # Capacity of LML at Eve\n",
    "        C_E_ZF  = 1/2*( np.log2(1+E_Eff_SNR_Ant1_ZF)  + np.log2(1+E_Eff_SNR_Ant2_ZF)  )  # Capacity of ZF at Eve\n",
    "        C_E_DF  = 1/2*( np.log2(1+E_Eff_SNR_Ant1_DF)  + np.log2(1+E_Eff_SNR_Ant2_DF)  )  # Capacity of DF at Eve\n",
    "\n",
    "        count_ConOutage_LML[k] = (C_B_LML <= R_T)\n",
    "        count_ConOutage_ZF[k]  = (C_B_ZF <= R_T)\n",
    "        count_ConOutage_DF[k]  = (C_B_DF <= R_T)\n",
    "\n",
    "        count_SecOutage_LML[k] = (C_E_LML > R_E)\n",
    "        count_SecOutage_ZF[k]  = (C_E_ZF > R_E)\n",
    "        count_SecOutage_DF[k]  = (C_E_DF > R_E)\n",
    "    \n",
    "    ConOutage_LML = np.sum(count_ConOutage_LML)/iteration\n",
    "    ConOutage_ZF  = np.sum(count_ConOutage_ZF) /iteration\n",
    "    ConOutage_DF  = np.sum(count_ConOutage_DF) /iteration\n",
    "\n",
    "    SecOutage_LML  = np.sum(count_SecOutage_LML) /iteration\n",
    "    SecOutage_ZF   = np.sum(count_SecOutage_ZF) /iteration\n",
    "    SecOutage_DF   = np.sum(count_SecOutage_DF) /iteration\n",
    "\n",
    "    return ConOutage_LML, ConOutage_ZF, ConOutage_DF, SecOutage_LML, SecOutage_ZF, SecOutage_DF"
   ]
  },
  {
   "cell_type": "code",
   "execution_count": null,
   "metadata": {},
   "outputs": [],
   "source": []
  },
  {
   "cell_type": "code",
   "execution_count": 12,
   "metadata": {},
   "outputs": [
    {
     "name": "stdout",
     "output_type": "stream",
     "text": [
      "(2, 2)\n"
     ]
    }
   ],
   "source": [
    "rho_B = 0.95\n",
    "Noise_Var_B = 1\n",
    "Noise_Var_B_v = 1 - rho_B**2\n",
    "\n",
    "H_B1 = np.divide(np.random.randn(2,1) + np.multiply(1j,np.random.randn(2,1)), math.sqrt(2))\n",
    "H_B2 = np.multiply(rho_B, H_B1) + np.divide(np.multiply((np.random.randn(2,1) + 1j*np.random.randn(2,1)),\n",
    "        math.sqrt(Noise_Var_B_v)), math.sqrt(2))\n",
    "H_B3 = np.c_[H_B1, H_B2]\n",
    "H_B3_JML = np.c_[H_B1, H_B1]\n",
    "H_B = [[H_B3_JML[0,0], H_B3_JML[1,0]],\n",
    "         [np.conjugate(H_B3_JML[1,1]), -np.conjugate(H_B3_JML[0,1])]]\n",
    "print(np.shape(H_B))"
   ]
  },
  {
   "cell_type": "code",
   "execution_count": null,
   "metadata": {},
   "outputs": [],
   "source": []
  }
 ],
 "metadata": {
  "kernelspec": {
   "display_name": "pyenv39",
   "language": "python",
   "name": "python3"
  },
  "language_info": {
   "codemirror_mode": {
    "name": "ipython",
    "version": 3
   },
   "file_extension": ".py",
   "mimetype": "text/x-python",
   "name": "python",
   "nbconvert_exporter": "python",
   "pygments_lexer": "ipython3",
   "version": "3.9.15"
  },
  "orig_nbformat": 4,
  "vscode": {
   "interpreter": {
    "hash": "dfe80c1029a37ff91c165f3f83aa9fe209bffbfc60b6de9c71ee55697b8fee92"
   }
  }
 },
 "nbformat": 4,
 "nbformat_minor": 2
}
