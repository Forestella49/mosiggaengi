{
 "cells": [
  {
   "cell_type": "code",
   "execution_count": 5,
   "metadata": {},
   "outputs": [],
   "source": [
    "import numpy as np\n",
    "import random\n",
    "import math"
   ]
  },
  {
   "cell_type": "code",
   "execution_count": 2,
   "metadata": {},
   "outputs": [],
   "source": [
    "def avg_var_cal(R_T, R_E, Es_dBm, Noise_Var_E, Noise_Var_B, rho_E, rho_B):\n",
    "    R_S = R_T - R_E\n",
    "    Es = 10**(Es_dBm/10)/1000\n",
    "    sigma_E = math.sqrt(Noise_Var_E)\n",
    "    sigma_B = math.sqrt(Noise_Var_B)\n",
    "    avg_SNR_B = (2*Es) / (sigma_B)^2\n",
    "    avg_SNR_E = (2*Es) / (sigma_E)^2\n",
    "    Noise_Var_E_v = 1 - rho_E**2\n",
    "    Noise_Var_B_v = 1 - rho_B**2\n",
    "    return avg_SNR_B, avg_SNR_E, Noise_Var_B_v, Noise_Var_E_v"
   ]
  },
  {
   "cell_type": "code",
   "execution_count": 2,
   "metadata": {},
   "outputs": [],
   "source": [
    "def TS_cha_ge(iteration, rho_B, rho_E, Noise_Var_B_v):\n",
    "    for k in range(iteration):\n",
    "        H_B1 = (np.random.randn(2,1) + math.sqrt(-1)*np.random.randn(2,1) / math.sqrt(2))\n",
    "        H_B2 = np.multiply(rho_B, H_B1) + np.divide(np.multiply((np.random.randn(2,1) + math.sqrt(-1)*np.random.randn(2,1)),\n",
    "                math.sqrt(Noise_Var_B_v)), math.sqrt(2))\n",
    "        H_B3 = H_B1.extend(H_B2)\n",
    "        H_B3_JML = H_B1.extend(H_B1)\n",
    "        H_B = [ [H_B3_JML(1,1), H_B3_JML(2,1)],\n",
    "                [np.conj(H_B3_JML(2,2)), -np.conj(H_B3_JML(1,2))] ]"
   ]
  },
  {
   "cell_type": "code",
   "execution_count": 69,
   "metadata": {},
   "outputs": [
    {
     "name": "stdout",
     "output_type": "stream",
     "text": [
      "(1.0524607866199698-0.38028782311399206j)\n"
     ]
    }
   ],
   "source": [
    "rho_B = 0.95\n",
    "Noise_Var_B = 1\n",
    "Noise_Var_B_v = 1 - rho_B**2\n",
    "\n",
    "H_B1 = np.divide(np.random.randn(2,1) + np.multiply(1j,np.random.randn(2,1)), math.sqrt(2))\n",
    "H_B2 = np.multiply(rho_B, H_B1) + np.divide(np.multiply((np.random.randn(2,1) + 1j*np.random.randn(2,1)),\n",
    "        math.sqrt(Noise_Var_B_v)), math.sqrt(2))\n",
    "H_B3 = np.c_[H_B1, H_B2]\n",
    "H_B3_JML = np.c_[H_B1, H_B1]\n",
    "# H_B = np.append([H_B3_JML[1,1], H_B3_JML[2,1]],\n",
    "#          [np.conj(H_B3_JML[2,2]), -np.conj(H_B3_JML[1,2])])\n",
    "print(H_B3_JML[0,1])"
   ]
  },
  {
   "cell_type": "code",
   "execution_count": null,
   "metadata": {},
   "outputs": [],
   "source": []
  }
 ],
 "metadata": {
  "kernelspec": {
   "display_name": "py39",
   "language": "python",
   "name": "python3"
  },
  "language_info": {
   "codemirror_mode": {
    "name": "ipython",
    "version": 3
   },
   "file_extension": ".py",
   "mimetype": "text/x-python",
   "name": "python",
   "nbconvert_exporter": "python",
   "pygments_lexer": "ipython3",
   "version": "3.9.15"
  },
  "orig_nbformat": 4,
  "vscode": {
   "interpreter": {
    "hash": "c7f001c627d5f6fac1b2230bb47f92751b7ff2659ba624729ce603d6931d4c64"
   }
  }
 },
 "nbformat": 4,
 "nbformat_minor": 2
}
